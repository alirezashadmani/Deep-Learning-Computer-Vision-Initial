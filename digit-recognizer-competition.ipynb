{
 "cells": [
  {
   "cell_type": "code",
   "execution_count": 1,
   "id": "4d42d8f5",
   "metadata": {
    "_cell_guid": "b1076dfc-b9ad-4769-8c92-a6c4dae69d19",
    "_uuid": "8f2839f25d086af736a60e9eeb907d3b93b6e0e5",
    "execution": {
     "iopub.execute_input": "2021-11-18T19:24:38.793079Z",
     "iopub.status.busy": "2021-11-18T19:24:38.792316Z",
     "iopub.status.idle": "2021-11-18T19:24:38.800612Z",
     "shell.execute_reply": "2021-11-18T19:24:38.799988Z",
     "shell.execute_reply.started": "2021-11-18T19:07:03.064345Z"
    },
    "papermill": {
     "duration": 0.041391,
     "end_time": "2021-11-18T19:24:38.800817",
     "exception": false,
     "start_time": "2021-11-18T19:24:38.759426",
     "status": "completed"
    },
    "tags": []
   },
   "outputs": [
    {
     "name": "stdout",
     "output_type": "stream",
     "text": [
      "/kaggle/input/digit-recognizer/sample_submission.csv\n",
      "/kaggle/input/digit-recognizer/train.csv\n",
      "/kaggle/input/digit-recognizer/test.csv\n"
     ]
    }
   ],
   "source": [
    "# This Python 3 environment comes with many helpful analytics libraries installed\n",
    "# It is defined by the kaggle/python Docker image: https://github.com/kaggle/docker-python\n",
    "# For example, here's several helpful packages to load\n",
    "\n",
    "import numpy as np # linear algebra\n",
    "import pandas as pd # data processing, CSV file I/O (e.g. pd.read_csv)\n",
    "\n",
    "# Input data files are available in the read-only \"../input/\" directory\n",
    "# For example, running this (by clicking run or pressing Shift+Enter) will list all files under the input directory\n",
    "\n",
    "import os\n",
    "for dirname, _, filenames in os.walk('/kaggle/input'):\n",
    "    for filename in filenames:\n",
    "        print(os.path.join(dirname, filename))\n",
    "\n",
    "# You can write up to 20GB to the current directory (/kaggle/working/) that gets preserved as output when you create a version using \"Save & Run All\" \n",
    "# You can also write temporary files to /kaggle/temp/, but they won't be saved outside of the current session"
   ]
  },
  {
   "cell_type": "markdown",
   "id": "44dd96df",
   "metadata": {
    "papermill": {
     "duration": 0.021048,
     "end_time": "2021-11-18T19:24:38.842687",
     "exception": false,
     "start_time": "2021-11-18T19:24:38.821639",
     "status": "completed"
    },
    "tags": []
   },
   "source": [
    "Training Data"
   ]
  },
  {
   "cell_type": "code",
   "execution_count": 2,
   "id": "0755d8da",
   "metadata": {
    "execution": {
     "iopub.execute_input": "2021-11-18T19:24:38.885009Z",
     "iopub.status.busy": "2021-11-18T19:24:38.884321Z",
     "iopub.status.idle": "2021-11-18T19:24:42.595661Z",
     "shell.execute_reply": "2021-11-18T19:24:42.595068Z",
     "shell.execute_reply.started": "2021-11-18T19:07:03.075913Z"
    },
    "papermill": {
     "duration": 3.733366,
     "end_time": "2021-11-18T19:24:42.595842",
     "exception": false,
     "start_time": "2021-11-18T19:24:38.862476",
     "status": "completed"
    },
    "tags": []
   },
   "outputs": [
    {
     "data": {
      "text/html": [
       "<div>\n",
       "<style scoped>\n",
       "    .dataframe tbody tr th:only-of-type {\n",
       "        vertical-align: middle;\n",
       "    }\n",
       "\n",
       "    .dataframe tbody tr th {\n",
       "        vertical-align: top;\n",
       "    }\n",
       "\n",
       "    .dataframe thead th {\n",
       "        text-align: right;\n",
       "    }\n",
       "</style>\n",
       "<table border=\"1\" class=\"dataframe\">\n",
       "  <thead>\n",
       "    <tr style=\"text-align: right;\">\n",
       "      <th></th>\n",
       "      <th>label</th>\n",
       "      <th>pixel0</th>\n",
       "      <th>pixel1</th>\n",
       "      <th>pixel2</th>\n",
       "      <th>pixel3</th>\n",
       "      <th>pixel4</th>\n",
       "      <th>pixel5</th>\n",
       "      <th>pixel6</th>\n",
       "      <th>pixel7</th>\n",
       "      <th>pixel8</th>\n",
       "      <th>...</th>\n",
       "      <th>pixel774</th>\n",
       "      <th>pixel775</th>\n",
       "      <th>pixel776</th>\n",
       "      <th>pixel777</th>\n",
       "      <th>pixel778</th>\n",
       "      <th>pixel779</th>\n",
       "      <th>pixel780</th>\n",
       "      <th>pixel781</th>\n",
       "      <th>pixel782</th>\n",
       "      <th>pixel783</th>\n",
       "    </tr>\n",
       "  </thead>\n",
       "  <tbody>\n",
       "    <tr>\n",
       "      <th>0</th>\n",
       "      <td>1</td>\n",
       "      <td>0</td>\n",
       "      <td>0</td>\n",
       "      <td>0</td>\n",
       "      <td>0</td>\n",
       "      <td>0</td>\n",
       "      <td>0</td>\n",
       "      <td>0</td>\n",
       "      <td>0</td>\n",
       "      <td>0</td>\n",
       "      <td>...</td>\n",
       "      <td>0</td>\n",
       "      <td>0</td>\n",
       "      <td>0</td>\n",
       "      <td>0</td>\n",
       "      <td>0</td>\n",
       "      <td>0</td>\n",
       "      <td>0</td>\n",
       "      <td>0</td>\n",
       "      <td>0</td>\n",
       "      <td>0</td>\n",
       "    </tr>\n",
       "    <tr>\n",
       "      <th>1</th>\n",
       "      <td>0</td>\n",
       "      <td>0</td>\n",
       "      <td>0</td>\n",
       "      <td>0</td>\n",
       "      <td>0</td>\n",
       "      <td>0</td>\n",
       "      <td>0</td>\n",
       "      <td>0</td>\n",
       "      <td>0</td>\n",
       "      <td>0</td>\n",
       "      <td>...</td>\n",
       "      <td>0</td>\n",
       "      <td>0</td>\n",
       "      <td>0</td>\n",
       "      <td>0</td>\n",
       "      <td>0</td>\n",
       "      <td>0</td>\n",
       "      <td>0</td>\n",
       "      <td>0</td>\n",
       "      <td>0</td>\n",
       "      <td>0</td>\n",
       "    </tr>\n",
       "    <tr>\n",
       "      <th>2</th>\n",
       "      <td>1</td>\n",
       "      <td>0</td>\n",
       "      <td>0</td>\n",
       "      <td>0</td>\n",
       "      <td>0</td>\n",
       "      <td>0</td>\n",
       "      <td>0</td>\n",
       "      <td>0</td>\n",
       "      <td>0</td>\n",
       "      <td>0</td>\n",
       "      <td>...</td>\n",
       "      <td>0</td>\n",
       "      <td>0</td>\n",
       "      <td>0</td>\n",
       "      <td>0</td>\n",
       "      <td>0</td>\n",
       "      <td>0</td>\n",
       "      <td>0</td>\n",
       "      <td>0</td>\n",
       "      <td>0</td>\n",
       "      <td>0</td>\n",
       "    </tr>\n",
       "    <tr>\n",
       "      <th>3</th>\n",
       "      <td>4</td>\n",
       "      <td>0</td>\n",
       "      <td>0</td>\n",
       "      <td>0</td>\n",
       "      <td>0</td>\n",
       "      <td>0</td>\n",
       "      <td>0</td>\n",
       "      <td>0</td>\n",
       "      <td>0</td>\n",
       "      <td>0</td>\n",
       "      <td>...</td>\n",
       "      <td>0</td>\n",
       "      <td>0</td>\n",
       "      <td>0</td>\n",
       "      <td>0</td>\n",
       "      <td>0</td>\n",
       "      <td>0</td>\n",
       "      <td>0</td>\n",
       "      <td>0</td>\n",
       "      <td>0</td>\n",
       "      <td>0</td>\n",
       "    </tr>\n",
       "    <tr>\n",
       "      <th>4</th>\n",
       "      <td>0</td>\n",
       "      <td>0</td>\n",
       "      <td>0</td>\n",
       "      <td>0</td>\n",
       "      <td>0</td>\n",
       "      <td>0</td>\n",
       "      <td>0</td>\n",
       "      <td>0</td>\n",
       "      <td>0</td>\n",
       "      <td>0</td>\n",
       "      <td>...</td>\n",
       "      <td>0</td>\n",
       "      <td>0</td>\n",
       "      <td>0</td>\n",
       "      <td>0</td>\n",
       "      <td>0</td>\n",
       "      <td>0</td>\n",
       "      <td>0</td>\n",
       "      <td>0</td>\n",
       "      <td>0</td>\n",
       "      <td>0</td>\n",
       "    </tr>\n",
       "  </tbody>\n",
       "</table>\n",
       "<p>5 rows × 785 columns</p>\n",
       "</div>"
      ],
      "text/plain": [
       "   label  pixel0  pixel1  pixel2  pixel3  pixel4  pixel5  pixel6  pixel7  \\\n",
       "0      1       0       0       0       0       0       0       0       0   \n",
       "1      0       0       0       0       0       0       0       0       0   \n",
       "2      1       0       0       0       0       0       0       0       0   \n",
       "3      4       0       0       0       0       0       0       0       0   \n",
       "4      0       0       0       0       0       0       0       0       0   \n",
       "\n",
       "   pixel8  ...  pixel774  pixel775  pixel776  pixel777  pixel778  pixel779  \\\n",
       "0       0  ...         0         0         0         0         0         0   \n",
       "1       0  ...         0         0         0         0         0         0   \n",
       "2       0  ...         0         0         0         0         0         0   \n",
       "3       0  ...         0         0         0         0         0         0   \n",
       "4       0  ...         0         0         0         0         0         0   \n",
       "\n",
       "   pixel780  pixel781  pixel782  pixel783  \n",
       "0         0         0         0         0  \n",
       "1         0         0         0         0  \n",
       "2         0         0         0         0  \n",
       "3         0         0         0         0  \n",
       "4         0         0         0         0  \n",
       "\n",
       "[5 rows x 785 columns]"
      ]
     },
     "execution_count": 2,
     "metadata": {},
     "output_type": "execute_result"
    }
   ],
   "source": [
    "df_train = pd.read_csv('/kaggle/input/digit-recognizer/train.csv')\n",
    "df_train.head()"
   ]
  },
  {
   "cell_type": "markdown",
   "id": "801277d4",
   "metadata": {
    "papermill": {
     "duration": 0.019592,
     "end_time": "2021-11-18T19:24:42.635449",
     "exception": false,
     "start_time": "2021-11-18T19:24:42.615857",
     "status": "completed"
    },
    "tags": []
   },
   "source": [
    "Test Data"
   ]
  },
  {
   "cell_type": "code",
   "execution_count": 3,
   "id": "bb41c382",
   "metadata": {
    "execution": {
     "iopub.execute_input": "2021-11-18T19:24:42.679892Z",
     "iopub.status.busy": "2021-11-18T19:24:42.679231Z",
     "iopub.status.idle": "2021-11-18T19:24:44.752201Z",
     "shell.execute_reply": "2021-11-18T19:24:44.752641Z",
     "shell.execute_reply.started": "2021-11-18T19:07:05.216255Z"
    },
    "papermill": {
     "duration": 2.097526,
     "end_time": "2021-11-18T19:24:44.752842",
     "exception": false,
     "start_time": "2021-11-18T19:24:42.655316",
     "status": "completed"
    },
    "tags": []
   },
   "outputs": [
    {
     "data": {
      "text/html": [
       "<div>\n",
       "<style scoped>\n",
       "    .dataframe tbody tr th:only-of-type {\n",
       "        vertical-align: middle;\n",
       "    }\n",
       "\n",
       "    .dataframe tbody tr th {\n",
       "        vertical-align: top;\n",
       "    }\n",
       "\n",
       "    .dataframe thead th {\n",
       "        text-align: right;\n",
       "    }\n",
       "</style>\n",
       "<table border=\"1\" class=\"dataframe\">\n",
       "  <thead>\n",
       "    <tr style=\"text-align: right;\">\n",
       "      <th></th>\n",
       "      <th>pixel0</th>\n",
       "      <th>pixel1</th>\n",
       "      <th>pixel2</th>\n",
       "      <th>pixel3</th>\n",
       "      <th>pixel4</th>\n",
       "      <th>pixel5</th>\n",
       "      <th>pixel6</th>\n",
       "      <th>pixel7</th>\n",
       "      <th>pixel8</th>\n",
       "      <th>pixel9</th>\n",
       "      <th>...</th>\n",
       "      <th>pixel774</th>\n",
       "      <th>pixel775</th>\n",
       "      <th>pixel776</th>\n",
       "      <th>pixel777</th>\n",
       "      <th>pixel778</th>\n",
       "      <th>pixel779</th>\n",
       "      <th>pixel780</th>\n",
       "      <th>pixel781</th>\n",
       "      <th>pixel782</th>\n",
       "      <th>pixel783</th>\n",
       "    </tr>\n",
       "  </thead>\n",
       "  <tbody>\n",
       "    <tr>\n",
       "      <th>0</th>\n",
       "      <td>0</td>\n",
       "      <td>0</td>\n",
       "      <td>0</td>\n",
       "      <td>0</td>\n",
       "      <td>0</td>\n",
       "      <td>0</td>\n",
       "      <td>0</td>\n",
       "      <td>0</td>\n",
       "      <td>0</td>\n",
       "      <td>0</td>\n",
       "      <td>...</td>\n",
       "      <td>0</td>\n",
       "      <td>0</td>\n",
       "      <td>0</td>\n",
       "      <td>0</td>\n",
       "      <td>0</td>\n",
       "      <td>0</td>\n",
       "      <td>0</td>\n",
       "      <td>0</td>\n",
       "      <td>0</td>\n",
       "      <td>0</td>\n",
       "    </tr>\n",
       "    <tr>\n",
       "      <th>1</th>\n",
       "      <td>0</td>\n",
       "      <td>0</td>\n",
       "      <td>0</td>\n",
       "      <td>0</td>\n",
       "      <td>0</td>\n",
       "      <td>0</td>\n",
       "      <td>0</td>\n",
       "      <td>0</td>\n",
       "      <td>0</td>\n",
       "      <td>0</td>\n",
       "      <td>...</td>\n",
       "      <td>0</td>\n",
       "      <td>0</td>\n",
       "      <td>0</td>\n",
       "      <td>0</td>\n",
       "      <td>0</td>\n",
       "      <td>0</td>\n",
       "      <td>0</td>\n",
       "      <td>0</td>\n",
       "      <td>0</td>\n",
       "      <td>0</td>\n",
       "    </tr>\n",
       "    <tr>\n",
       "      <th>2</th>\n",
       "      <td>0</td>\n",
       "      <td>0</td>\n",
       "      <td>0</td>\n",
       "      <td>0</td>\n",
       "      <td>0</td>\n",
       "      <td>0</td>\n",
       "      <td>0</td>\n",
       "      <td>0</td>\n",
       "      <td>0</td>\n",
       "      <td>0</td>\n",
       "      <td>...</td>\n",
       "      <td>0</td>\n",
       "      <td>0</td>\n",
       "      <td>0</td>\n",
       "      <td>0</td>\n",
       "      <td>0</td>\n",
       "      <td>0</td>\n",
       "      <td>0</td>\n",
       "      <td>0</td>\n",
       "      <td>0</td>\n",
       "      <td>0</td>\n",
       "    </tr>\n",
       "    <tr>\n",
       "      <th>3</th>\n",
       "      <td>0</td>\n",
       "      <td>0</td>\n",
       "      <td>0</td>\n",
       "      <td>0</td>\n",
       "      <td>0</td>\n",
       "      <td>0</td>\n",
       "      <td>0</td>\n",
       "      <td>0</td>\n",
       "      <td>0</td>\n",
       "      <td>0</td>\n",
       "      <td>...</td>\n",
       "      <td>0</td>\n",
       "      <td>0</td>\n",
       "      <td>0</td>\n",
       "      <td>0</td>\n",
       "      <td>0</td>\n",
       "      <td>0</td>\n",
       "      <td>0</td>\n",
       "      <td>0</td>\n",
       "      <td>0</td>\n",
       "      <td>0</td>\n",
       "    </tr>\n",
       "    <tr>\n",
       "      <th>4</th>\n",
       "      <td>0</td>\n",
       "      <td>0</td>\n",
       "      <td>0</td>\n",
       "      <td>0</td>\n",
       "      <td>0</td>\n",
       "      <td>0</td>\n",
       "      <td>0</td>\n",
       "      <td>0</td>\n",
       "      <td>0</td>\n",
       "      <td>0</td>\n",
       "      <td>...</td>\n",
       "      <td>0</td>\n",
       "      <td>0</td>\n",
       "      <td>0</td>\n",
       "      <td>0</td>\n",
       "      <td>0</td>\n",
       "      <td>0</td>\n",
       "      <td>0</td>\n",
       "      <td>0</td>\n",
       "      <td>0</td>\n",
       "      <td>0</td>\n",
       "    </tr>\n",
       "  </tbody>\n",
       "</table>\n",
       "<p>5 rows × 784 columns</p>\n",
       "</div>"
      ],
      "text/plain": [
       "   pixel0  pixel1  pixel2  pixel3  pixel4  pixel5  pixel6  pixel7  pixel8  \\\n",
       "0       0       0       0       0       0       0       0       0       0   \n",
       "1       0       0       0       0       0       0       0       0       0   \n",
       "2       0       0       0       0       0       0       0       0       0   \n",
       "3       0       0       0       0       0       0       0       0       0   \n",
       "4       0       0       0       0       0       0       0       0       0   \n",
       "\n",
       "   pixel9  ...  pixel774  pixel775  pixel776  pixel777  pixel778  pixel779  \\\n",
       "0       0  ...         0         0         0         0         0         0   \n",
       "1       0  ...         0         0         0         0         0         0   \n",
       "2       0  ...         0         0         0         0         0         0   \n",
       "3       0  ...         0         0         0         0         0         0   \n",
       "4       0  ...         0         0         0         0         0         0   \n",
       "\n",
       "   pixel780  pixel781  pixel782  pixel783  \n",
       "0         0         0         0         0  \n",
       "1         0         0         0         0  \n",
       "2         0         0         0         0  \n",
       "3         0         0         0         0  \n",
       "4         0         0         0         0  \n",
       "\n",
       "[5 rows x 784 columns]"
      ]
     },
     "execution_count": 3,
     "metadata": {},
     "output_type": "execute_result"
    }
   ],
   "source": [
    "df_test = pd.read_csv('/kaggle/input/digit-recognizer/test.csv')\n",
    "df_test.head()"
   ]
  },
  {
   "cell_type": "code",
   "execution_count": 4,
   "id": "6f0b8c46",
   "metadata": {
    "execution": {
     "iopub.execute_input": "2021-11-18T19:24:44.905029Z",
     "iopub.status.busy": "2021-11-18T19:24:44.801067Z",
     "iopub.status.idle": "2021-11-18T19:24:44.910399Z",
     "shell.execute_reply": "2021-11-18T19:24:44.909853Z",
     "shell.execute_reply.started": "2021-11-18T19:07:06.514483Z"
    },
    "papermill": {
     "duration": 0.137336,
     "end_time": "2021-11-18T19:24:44.910535",
     "exception": false,
     "start_time": "2021-11-18T19:24:44.773199",
     "status": "completed"
    },
    "tags": []
   },
   "outputs": [],
   "source": [
    "X_train = df_train.drop('label', axis=1)\n",
    "y_train = df_train['label']"
   ]
  },
  {
   "cell_type": "code",
   "execution_count": 5,
   "id": "92bdd998",
   "metadata": {
    "execution": {
     "iopub.execute_input": "2021-11-18T19:24:44.955817Z",
     "iopub.status.busy": "2021-11-18T19:24:44.955141Z",
     "iopub.status.idle": "2021-11-18T19:24:45.164891Z",
     "shell.execute_reply": "2021-11-18T19:24:45.165419Z",
     "shell.execute_reply.started": "2021-11-18T19:07:06.601740Z"
    },
    "papermill": {
     "duration": 0.233979,
     "end_time": "2021-11-18T19:24:45.165607",
     "exception": false,
     "start_time": "2021-11-18T19:24:44.931628",
     "status": "completed"
    },
    "tags": []
   },
   "outputs": [
    {
     "data": {
      "image/png": "[encoded data removed]",
      "text/plain": [
       "<Figure size 432x288 with 1 Axes>"
      ]
     },
     "metadata": {
      "needs_background": "light"
     },
     "output_type": "display_data"
    }
   ],
   "source": [
    "import matplotlib.pyplot as plt\n",
    "def viz_num(num):\n",
    "    # Reshape the 768 values to a 28x28 image\n",
    "    image = X_train.values[num].reshape([28,28])\n",
    "    plt.title('Sample: %d Label: %d' % (num, y_train[num]))\n",
    "    plt.imshow(image, cmap=plt.get_cmap('gray'))\n",
    "    plt.show()\n",
    "viz_num(1100)"
   ]
  },
  {
   "cell_type": "markdown",
   "id": "5f1aa587",
   "metadata": {
    "papermill": {
     "duration": 0.021205,
     "end_time": "2021-11-18T19:24:45.208037",
     "exception": false,
     "start_time": "2021-11-18T19:24:45.186832",
     "status": "completed"
    },
    "tags": []
   },
   "source": [
    "Formatting the Data"
   ]
  },
  {
   "cell_type": "code",
   "execution_count": 6,
   "id": "6d4f98ad",
   "metadata": {
    "execution": {
     "iopub.execute_input": "2021-11-18T19:24:45.254123Z",
     "iopub.status.busy": "2021-11-18T19:24:45.253451Z",
     "iopub.status.idle": "2021-11-18T19:24:45.359596Z",
     "shell.execute_reply": "2021-11-18T19:24:45.359060Z",
     "shell.execute_reply.started": "2021-11-18T19:07:06.788174Z"
    },
    "papermill": {
     "duration": 0.130255,
     "end_time": "2021-11-18T19:24:45.359749",
     "exception": false,
     "start_time": "2021-11-18T19:24:45.229494",
     "status": "completed"
    },
    "tags": []
   },
   "outputs": [],
   "source": [
    "X_train = X_train/255.0\n",
    "df_test = df_test/255.0\n",
    "X_train = X_train.values.reshape(-1, 28, 28, 1)\n",
    "df_test = df_test.values.reshape(-1, 28, 28, 1)"
   ]
  },
  {
   "cell_type": "code",
   "execution_count": 7,
   "id": "0ddea230",
   "metadata": {
    "execution": {
     "iopub.execute_input": "2021-11-18T19:24:45.406984Z",
     "iopub.status.busy": "2021-11-18T19:24:45.404409Z",
     "iopub.status.idle": "2021-11-18T19:24:52.267710Z",
     "shell.execute_reply": "2021-11-18T19:24:52.267134Z",
     "shell.execute_reply.started": "2021-11-18T19:07:06.887949Z"
    },
    "papermill": {
     "duration": 6.887186,
     "end_time": "2021-11-18T19:24:52.267889",
     "exception": false,
     "start_time": "2021-11-18T19:24:45.380703",
     "status": "completed"
    },
    "tags": []
   },
   "outputs": [],
   "source": [
    "from sklearn.model_selection import train_test_split\n",
    "import tensorflow\n",
    "from tensorflow import keras\n",
    "from tensorflow.keras.models import Sequential\n",
    "from tensorflow.keras.layers import Dense, Dropout, Conv2D, MaxPooling2D, Flatten\n",
    "from tensorflow.keras.optimizers import RMSprop"
   ]
  },
  {
   "cell_type": "code",
   "execution_count": 8,
   "id": "9ede1a7c",
   "metadata": {
    "execution": {
     "iopub.execute_input": "2021-11-18T19:24:52.313993Z",
     "iopub.status.busy": "2021-11-18T19:24:52.313299Z",
     "iopub.status.idle": "2021-11-18T19:24:52.771503Z",
     "shell.execute_reply": "2021-11-18T19:24:52.772054Z",
     "shell.execute_reply.started": "2021-11-18T19:07:06.895285Z"
    },
    "papermill": {
     "duration": 0.482911,
     "end_time": "2021-11-18T19:24:52.772230",
     "exception": false,
     "start_time": "2021-11-18T19:24:52.289319",
     "status": "completed"
    },
    "tags": []
   },
   "outputs": [],
   "source": [
    "X_train, X_validation, y_train, y_validation = train_test_split(X_train, y_train, test_size=0.2, random_state=42, stratify=y_train)"
   ]
  },
  {
   "cell_type": "code",
   "execution_count": 9,
   "id": "faac39d1",
   "metadata": {
    "execution": {
     "iopub.execute_input": "2021-11-18T19:24:52.817603Z",
     "iopub.status.busy": "2021-11-18T19:24:52.817019Z",
     "iopub.status.idle": "2021-11-18T19:24:52.821467Z",
     "shell.execute_reply": "2021-11-18T19:24:52.822130Z",
     "shell.execute_reply.started": "2021-11-18T19:07:07.322747Z"
    },
    "papermill": {
     "duration": 0.029007,
     "end_time": "2021-11-18T19:24:52.822372",
     "exception": false,
     "start_time": "2021-11-18T19:24:52.793365",
     "status": "completed"
    },
    "tags": []
   },
   "outputs": [],
   "source": [
    "y_train = keras.utils.to_categorical(y_train)\n",
    "y_validation = keras.utils.to_categorical(y_validation)"
   ]
  },
  {
   "cell_type": "code",
   "execution_count": 10,
   "id": "fe2470d2",
   "metadata": {
    "execution": {
     "iopub.execute_input": "2021-11-18T19:24:52.868015Z",
     "iopub.status.busy": "2021-11-18T19:24:52.867322Z",
     "iopub.status.idle": "2021-11-18T19:24:53.053637Z",
     "shell.execute_reply": "2021-11-18T19:24:53.054448Z",
     "shell.execute_reply.started": "2021-11-18T19:07:07.329779Z"
    },
    "papermill": {
     "duration": 0.211065,
     "end_time": "2021-11-18T19:24:53.054700",
     "exception": false,
     "start_time": "2021-11-18T19:24:52.843635",
     "status": "completed"
    },
    "tags": []
   },
   "outputs": [
    {
     "name": "stderr",
     "output_type": "stream",
     "text": [
      "\n",
      "User settings:\n",
      "\n",
      "   KMP_AFFINITY=granularity=fine,verbose,compact,1,0\n",
      "   KMP_BLOCKTIME=0\n",
      "   KMP_DUPLICATE_LIB_OK=True\n",
      "   KMP_INIT_AT_FORK=FALSE\n",
      "   KMP_SETTINGS=1\n",
      "   KMP_WARNINGS=0\n",
      "\n",
      "Effective settings:\n",
      "\n",
      "   KMP_ABORT_DELAY=0\n",
      "   KMP_ADAPTIVE_LOCK_PROPS='1,1024'\n",
      "   KMP_ALIGN_ALLOC=64\n",
      "   KMP_ALL_THREADPRIVATE=128\n",
      "   KMP_ATOMIC_MODE=2\n",
      "   KMP_BLOCKTIME=0\n",
      "   KMP_CPUINFO_FILE: value is not defined\n",
      "   KMP_DETERMINISTIC_REDUCTION=false\n",
      "   KMP_DEVICE_THREAD_LIMIT=2147483647\n",
      "   KMP_DISP_NUM_BUFFERS=7\n",
      "   KMP_DUPLICATE_LIB_OK=true\n",
      "   KMP_ENABLE_TASK_THROTTLING=true\n",
      "   KMP_FORCE_REDUCTION: value is not defined\n",
      "   KMP_FOREIGN_THREADS_THREADPRIVATE=true\n",
      "   KMP_FORKJOIN_BARRIER='2,2'\n",
      "   KMP_FORKJOIN_BARRIER_PATTERN='hyper,hyper'\n",
      "   KMP_GTID_MODE=3\n",
      "   KMP_HANDLE_SIGNALS=false\n",
      "   KMP_HOT_TEAMS_MAX_LEVEL=1\n",
      "   KMP_HOT_TEAMS_MODE=0\n",
      "   KMP_INIT_AT_FORK=true\n",
      "   KMP_LIBRARY=throughput\n",
      "   KMP_LOCK_KIND=queuing\n",
      "   KMP_MALLOC_POOL_INCR=1M\n",
      "   KMP_NUM_LOCKS_IN_BLOCK=1\n",
      "   KMP_PLAIN_BARRIER='2,2'\n",
      "   KMP_PLAIN_BARRIER_PATTERN='hyper,hyper'\n",
      "   KMP_REDUCTION_BARRIER='1,1'\n",
      "   KMP_REDUCTION_BARRIER_PATTERN='hyper,hyper'\n",
      "   KMP_SCHEDULE='static,balanced;guided,iterative'\n",
      "   KMP_SETTINGS=true\n",
      "   KMP_SPIN_BACKOFF_PARAMS='4096,100'\n",
      "   KMP_STACKOFFSET=64\n",
      "   KMP_STACKPAD=0\n",
      "   KMP_STACKSIZE=8M\n",
      "   KMP_STORAGE_MAP=false\n",
      "   KMP_TASKING=2\n",
      "   KMP_TASKLOOP_MIN_TASKS=0\n",
      "   KMP_TASK_STEALING_CONSTRAINT=1\n",
      "   KMP_TEAMS_THREAD_LIMIT=4\n",
      "   KMP_TOPOLOGY_METHOD=all\n",
      "   KMP_USE_YIELD=1\n",
      "   KMP_VERSION=false\n",
      "   KMP_WARNINGS=false\n",
      "   OMP_AFFINITY_FORMAT='OMP: pid %P tid %i thread %n bound to OS proc set {%A}'\n",
      "   OMP_ALLOCATOR=omp_default_mem_alloc\n",
      "   OMP_CANCELLATION=false\n",
      "   OMP_DEFAULT_DEVICE=0\n",
      "   OMP_DISPLAY_AFFINITY=false\n",
      "   OMP_DISPLAY_ENV=false\n",
      "   OMP_DYNAMIC=false\n",
      "   OMP_MAX_ACTIVE_LEVELS=1\n",
      "   OMP_MAX_TASK_PRIORITY=0\n",
      "   OMP_NESTED: deprecated; max-active-levels-var=1\n",
      "   OMP_NUM_THREADS: value is not defined\n",
      "   OMP_PLACES: value is not defined\n",
      "   OMP_PROC_BIND='intel'\n",
      "   OMP_SCHEDULE='static'\n",
      "   OMP_STACKSIZE=8M\n",
      "   OMP_TARGET_OFFLOAD=DEFAULT\n",
      "   OMP_THREAD_LIMIT=2147483647\n",
      "   OMP_WAIT_POLICY=PASSIVE\n",
      "   KMP_AFFINITY='verbose,warnings,respect,granularity=fine,compact,1,0'\n",
      "\n",
      "2021-11-18 19:24:52.910045: I tensorflow/core/common_runtime/process_util.cc:146] Creating new thread pool with default inter op setting: 2. Tune using inter_op_parallelism_threads for best performance.\n"
     ]
    }
   ],
   "source": [
    "model = Sequential()\n",
    "model.add(Conv2D(32, kernel_size=(3, 3), padding='same', activation='relu', input_shape=(28, 28, 1)))\n",
    "model.add(MaxPooling2D(pool_size=(2, 2), padding='same'))\n",
    "model.add(Conv2D(64, kernel_size=(3, 3), padding='same', activation='relu'))\n",
    "model.add(MaxPooling2D(pool_size=(2, 2), padding='same'))\n",
    "model.add(Conv2D(128, kernel_size=(3, 3), padding='same', activation='relu'))\n",
    "model.add(MaxPooling2D(pool_size=(2, 2), padding='same'))\n",
    "model.add(Flatten())\n",
    "model.add(Dense(256, activation='relu'))\n",
    "model.add(Dense(10, activation='softmax'))\n",
    "model.compile(loss='categorical_crossentropy', optimizer='adam', metrics=['accuracy'])"
   ]
  },
  {
   "cell_type": "code",
   "execution_count": 11,
   "id": "d7dc1491",
   "metadata": {
    "execution": {
     "iopub.execute_input": "2021-11-18T19:24:53.101905Z",
     "iopub.status.busy": "2021-11-18T19:24:53.101242Z",
     "iopub.status.idle": "2021-11-18T19:24:53.104612Z",
     "shell.execute_reply": "2021-11-18T19:24:53.105200Z",
     "shell.execute_reply.started": "2021-11-18T19:07:07.411302Z"
    },
    "papermill": {
     "duration": 0.028443,
     "end_time": "2021-11-18T19:24:53.105367",
     "exception": false,
     "start_time": "2021-11-18T19:24:53.076924",
     "status": "completed"
    },
    "tags": []
   },
   "outputs": [],
   "source": [
    "from keras.callbacks import EarlyStopping"
   ]
  },
  {
   "cell_type": "code",
   "execution_count": 12,
   "id": "a51957ca",
   "metadata": {
    "execution": {
     "iopub.execute_input": "2021-11-18T19:24:53.151830Z",
     "iopub.status.busy": "2021-11-18T19:24:53.151187Z",
     "iopub.status.idle": "2021-11-18T19:24:53.156269Z",
     "shell.execute_reply": "2021-11-18T19:24:53.155608Z",
     "shell.execute_reply.started": "2021-11-18T19:07:07.415828Z"
    },
    "papermill": {
     "duration": 0.029157,
     "end_time": "2021-11-18T19:24:53.156403",
     "exception": false,
     "start_time": "2021-11-18T19:24:53.127246",
     "status": "completed"
    },
    "tags": []
   },
   "outputs": [],
   "source": [
    "early_stopping = EarlyStopping(min_delta=0.001, patience=5, restore_best_weights=True)"
   ]
  },
  {
   "cell_type": "code",
   "execution_count": 13,
   "id": "2ff1b8c5",
   "metadata": {
    "execution": {
     "iopub.execute_input": "2021-11-18T19:24:53.205206Z",
     "iopub.status.busy": "2021-11-18T19:24:53.204551Z",
     "iopub.status.idle": "2021-11-18T19:29:20.038844Z",
     "shell.execute_reply": "2021-11-18T19:29:20.039338Z",
     "shell.execute_reply.started": "2021-11-18T19:07:07.429585Z"
    },
    "papermill": {
     "duration": 266.861595,
     "end_time": "2021-11-18T19:29:20.039538",
     "exception": false,
     "start_time": "2021-11-18T19:24:53.177943",
     "status": "completed"
    },
    "tags": []
   },
   "outputs": [
    {
     "name": "stderr",
     "output_type": "stream",
     "text": [
      "2021-11-18 19:24:53.398680: I tensorflow/compiler/mlir/mlir_graph_optimization_pass.cc:185] None of the MLIR Optimization Passes are enabled (registered 2)\n"
     ]
    },
    {
     "name": "stdout",
     "output_type": "stream",
     "text": [
      "Epoch 1/20\n",
      "1050/1050 [==============================] - 28s 26ms/step - loss: 0.1613 - accuracy: 0.9490 - val_loss: 0.0472 - val_accuracy: 0.9844\n",
      "Epoch 2/20\n",
      "1050/1050 [==============================] - 27s 25ms/step - loss: 0.0481 - accuracy: 0.9851 - val_loss: 0.0416 - val_accuracy: 0.9868\n",
      "Epoch 3/20\n",
      "1050/1050 [==============================] - 26s 25ms/step - loss: 0.0317 - accuracy: 0.9901 - val_loss: 0.0668 - val_accuracy: 0.9804\n",
      "Epoch 4/20\n",
      "1050/1050 [==============================] - 26s 25ms/step - loss: 0.0242 - accuracy: 0.9924 - val_loss: 0.0430 - val_accuracy: 0.9875\n",
      "Epoch 5/20\n",
      "1050/1050 [==============================] - 27s 26ms/step - loss: 0.0192 - accuracy: 0.9939 - val_loss: 0.0339 - val_accuracy: 0.9904\n",
      "Epoch 6/20\n",
      "1050/1050 [==============================] - 27s 25ms/step - loss: 0.0157 - accuracy: 0.9944 - val_loss: 0.0419 - val_accuracy: 0.9899\n",
      "Epoch 7/20\n",
      "1050/1050 [==============================] - 26s 25ms/step - loss: 0.0149 - accuracy: 0.9955 - val_loss: 0.0448 - val_accuracy: 0.9885\n",
      "Epoch 8/20\n",
      "1050/1050 [==============================] - 26s 25ms/step - loss: 0.0083 - accuracy: 0.9976 - val_loss: 0.0444 - val_accuracy: 0.9892\n",
      "Epoch 9/20\n",
      "1050/1050 [==============================] - 27s 25ms/step - loss: 0.0121 - accuracy: 0.9962 - val_loss: 0.0442 - val_accuracy: 0.9894\n",
      "Epoch 10/20\n",
      "1050/1050 [==============================] - 27s 26ms/step - loss: 0.0088 - accuracy: 0.9971 - val_loss: 0.0563 - val_accuracy: 0.9874\n"
     ]
    }
   ],
   "source": [
    "history = model.fit(x=X_train, y=y_train, batch_size=32,\n",
    "                   epochs=20, callbacks=[early_stopping],\n",
    "                   validation_data=(X_validation, y_validation))"
   ]
  },
  {
   "cell_type": "code",
   "execution_count": 14,
   "id": "5f5320ac",
   "metadata": {
    "execution": {
     "iopub.execute_input": "2021-11-18T19:29:22.256506Z",
     "iopub.status.busy": "2021-11-18T19:29:22.255868Z",
     "iopub.status.idle": "2021-11-18T19:29:22.258550Z",
     "shell.execute_reply": "2021-11-18T19:29:22.259067Z",
     "shell.execute_reply.started": "2021-11-18T19:11:40.788394Z"
    },
    "papermill": {
     "duration": 1.119352,
     "end_time": "2021-11-18T19:29:22.259231",
     "exception": false,
     "start_time": "2021-11-18T19:29:21.139879",
     "status": "completed"
    },
    "tags": []
   },
   "outputs": [
    {
     "name": "stdout",
     "output_type": "stream",
     "text": [
      "0.9903571605682373\n"
     ]
    }
   ],
   "source": [
    "score = (max(history.history['val_accuracy']))\n",
    "print(score)"
   ]
  },
  {
   "cell_type": "code",
   "execution_count": 15,
   "id": "a15dfd09",
   "metadata": {
    "execution": {
     "iopub.execute_input": "2021-11-18T19:29:24.539614Z",
     "iopub.status.busy": "2021-11-18T19:29:24.539011Z",
     "iopub.status.idle": "2021-11-18T19:29:24.562289Z",
     "shell.execute_reply": "2021-11-18T19:29:24.562824Z",
     "shell.execute_reply.started": "2021-11-18T19:11:40.795651Z"
    },
    "papermill": {
     "duration": 1.13606,
     "end_time": "2021-11-18T19:29:24.562992",
     "exception": false,
     "start_time": "2021-11-18T19:29:23.426932",
     "status": "completed"
    },
    "tags": []
   },
   "outputs": [],
   "source": [
    "sample_submission = pd.read_csv('../input/digit-recognizer/sample_submission.csv')"
   ]
  },
  {
   "cell_type": "code",
   "execution_count": 16,
   "id": "e04d47f4",
   "metadata": {
    "execution": {
     "iopub.execute_input": "2021-11-18T19:29:26.805587Z",
     "iopub.status.busy": "2021-11-18T19:29:26.804916Z",
     "iopub.status.idle": "2021-11-18T19:29:26.814583Z",
     "shell.execute_reply": "2021-11-18T19:29:26.815180Z",
     "shell.execute_reply.started": "2021-11-18T19:11:40.817148Z"
    },
    "papermill": {
     "duration": 1.124732,
     "end_time": "2021-11-18T19:29:26.815388",
     "exception": false,
     "start_time": "2021-11-18T19:29:25.690656",
     "status": "completed"
    },
    "tags": []
   },
   "outputs": [
    {
     "data": {
      "text/html": [
       "<div>\n",
       "<style scoped>\n",
       "    .dataframe tbody tr th:only-of-type {\n",
       "        vertical-align: middle;\n",
       "    }\n",
       "\n",
       "    .dataframe tbody tr th {\n",
       "        vertical-align: top;\n",
       "    }\n",
       "\n",
       "    .dataframe thead th {\n",
       "        text-align: right;\n",
       "    }\n",
       "</style>\n",
       "<table border=\"1\" class=\"dataframe\">\n",
       "  <thead>\n",
       "    <tr style=\"text-align: right;\">\n",
       "      <th></th>\n",
       "      <th>ImageId</th>\n",
       "      <th>Label</th>\n",
       "    </tr>\n",
       "  </thead>\n",
       "  <tbody>\n",
       "    <tr>\n",
       "      <th>0</th>\n",
       "      <td>1</td>\n",
       "      <td>0</td>\n",
       "    </tr>\n",
       "    <tr>\n",
       "      <th>1</th>\n",
       "      <td>2</td>\n",
       "      <td>0</td>\n",
       "    </tr>\n",
       "    <tr>\n",
       "      <th>2</th>\n",
       "      <td>3</td>\n",
       "      <td>0</td>\n",
       "    </tr>\n",
       "    <tr>\n",
       "      <th>3</th>\n",
       "      <td>4</td>\n",
       "      <td>0</td>\n",
       "    </tr>\n",
       "    <tr>\n",
       "      <th>4</th>\n",
       "      <td>5</td>\n",
       "      <td>0</td>\n",
       "    </tr>\n",
       "    <tr>\n",
       "      <th>...</th>\n",
       "      <td>...</td>\n",
       "      <td>...</td>\n",
       "    </tr>\n",
       "    <tr>\n",
       "      <th>27995</th>\n",
       "      <td>27996</td>\n",
       "      <td>0</td>\n",
       "    </tr>\n",
       "    <tr>\n",
       "      <th>27996</th>\n",
       "      <td>27997</td>\n",
       "      <td>0</td>\n",
       "    </tr>\n",
       "    <tr>\n",
       "      <th>27997</th>\n",
       "      <td>27998</td>\n",
       "      <td>0</td>\n",
       "    </tr>\n",
       "    <tr>\n",
       "      <th>27998</th>\n",
       "      <td>27999</td>\n",
       "      <td>0</td>\n",
       "    </tr>\n",
       "    <tr>\n",
       "      <th>27999</th>\n",
       "      <td>28000</td>\n",
       "      <td>0</td>\n",
       "    </tr>\n",
       "  </tbody>\n",
       "</table>\n",
       "<p>28000 rows × 2 columns</p>\n",
       "</div>"
      ],
      "text/plain": [
       "       ImageId  Label\n",
       "0            1      0\n",
       "1            2      0\n",
       "2            3      0\n",
       "3            4      0\n",
       "4            5      0\n",
       "...        ...    ...\n",
       "27995    27996      0\n",
       "27996    27997      0\n",
       "27997    27998      0\n",
       "27998    27999      0\n",
       "27999    28000      0\n",
       "\n",
       "[28000 rows x 2 columns]"
      ]
     },
     "execution_count": 16,
     "metadata": {},
     "output_type": "execute_result"
    }
   ],
   "source": [
    "sample_submission"
   ]
  },
  {
   "cell_type": "code",
   "execution_count": 17,
   "id": "48ea502f",
   "metadata": {
    "execution": {
     "iopub.execute_input": "2021-11-18T19:29:29.027139Z",
     "iopub.status.busy": "2021-11-18T19:29:29.026495Z",
     "iopub.status.idle": "2021-11-18T19:29:35.333348Z",
     "shell.execute_reply": "2021-11-18T19:29:35.333833Z",
     "shell.execute_reply.started": "2021-11-18T19:11:40.828992Z"
    },
    "papermill": {
     "duration": 7.409593,
     "end_time": "2021-11-18T19:29:35.334014",
     "exception": false,
     "start_time": "2021-11-18T19:29:27.924421",
     "status": "completed"
    },
    "tags": []
   },
   "outputs": [
    {
     "data": {
      "text/plain": [
       "array([2, 0, 9, ..., 3, 9, 2])"
      ]
     },
     "execution_count": 17,
     "metadata": {},
     "output_type": "execute_result"
    }
   ],
   "source": [
    "y_test = model.predict(df_test)\n",
    "y_test = np.argmax(y_test, axis=1)\n",
    "y_test"
   ]
  },
  {
   "cell_type": "code",
   "execution_count": 18,
   "id": "7ac58584",
   "metadata": {
    "execution": {
     "iopub.execute_input": "2021-11-18T19:29:37.693978Z",
     "iopub.status.busy": "2021-11-18T19:29:37.692973Z",
     "iopub.status.idle": "2021-11-18T19:29:37.697470Z",
     "shell.execute_reply": "2021-11-18T19:29:37.698181Z",
     "shell.execute_reply.started": "2021-11-18T19:11:46.906191Z"
    },
    "papermill": {
     "duration": 1.23206,
     "end_time": "2021-11-18T19:29:37.698432",
     "exception": false,
     "start_time": "2021-11-18T19:29:36.466372",
     "status": "completed"
    },
    "tags": []
   },
   "outputs": [],
   "source": [
    "submission = pd.DataFrame(columns=['ImageId', 'Label'])"
   ]
  },
  {
   "cell_type": "code",
   "execution_count": 19,
   "id": "1f8c32c7",
   "metadata": {
    "execution": {
     "iopub.execute_input": "2021-11-18T19:29:39.923876Z",
     "iopub.status.busy": "2021-11-18T19:29:39.923187Z",
     "iopub.status.idle": "2021-11-18T19:29:39.934965Z",
     "shell.execute_reply": "2021-11-18T19:29:39.935566Z",
     "shell.execute_reply.started": "2021-11-18T19:11:46.914709Z"
    },
    "papermill": {
     "duration": 1.12246,
     "end_time": "2021-11-18T19:29:39.935776",
     "exception": false,
     "start_time": "2021-11-18T19:29:38.813316",
     "status": "completed"
    },
    "tags": []
   },
   "outputs": [],
   "source": [
    "submission['ImageId'] = range(1, 1+len(df_test))\n",
    "submission['Label'] = y_test"
   ]
  },
  {
   "cell_type": "code",
   "execution_count": 20,
   "id": "14aa3dd2",
   "metadata": {
    "execution": {
     "iopub.execute_input": "2021-11-18T19:29:42.161142Z",
     "iopub.status.busy": "2021-11-18T19:29:42.160357Z",
     "iopub.status.idle": "2021-11-18T19:29:42.169756Z",
     "shell.execute_reply": "2021-11-18T19:29:42.170516Z",
     "shell.execute_reply.started": "2021-11-18T19:11:46.930581Z"
    },
    "papermill": {
     "duration": 1.121028,
     "end_time": "2021-11-18T19:29:42.170866",
     "exception": false,
     "start_time": "2021-11-18T19:29:41.049838",
     "status": "completed"
    },
    "tags": []
   },
   "outputs": [
    {
     "data": {
      "text/html": [
       "<div>\n",
       "<style scoped>\n",
       "    .dataframe tbody tr th:only-of-type {\n",
       "        vertical-align: middle;\n",
       "    }\n",
       "\n",
       "    .dataframe tbody tr th {\n",
       "        vertical-align: top;\n",
       "    }\n",
       "\n",
       "    .dataframe thead th {\n",
       "        text-align: right;\n",
       "    }\n",
       "</style>\n",
       "<table border=\"1\" class=\"dataframe\">\n",
       "  <thead>\n",
       "    <tr style=\"text-align: right;\">\n",
       "      <th></th>\n",
       "      <th>ImageId</th>\n",
       "      <th>Label</th>\n",
       "    </tr>\n",
       "  </thead>\n",
       "  <tbody>\n",
       "    <tr>\n",
       "      <th>0</th>\n",
       "      <td>1</td>\n",
       "      <td>2</td>\n",
       "    </tr>\n",
       "    <tr>\n",
       "      <th>1</th>\n",
       "      <td>2</td>\n",
       "      <td>0</td>\n",
       "    </tr>\n",
       "    <tr>\n",
       "      <th>2</th>\n",
       "      <td>3</td>\n",
       "      <td>9</td>\n",
       "    </tr>\n",
       "    <tr>\n",
       "      <th>3</th>\n",
       "      <td>4</td>\n",
       "      <td>9</td>\n",
       "    </tr>\n",
       "    <tr>\n",
       "      <th>4</th>\n",
       "      <td>5</td>\n",
       "      <td>3</td>\n",
       "    </tr>\n",
       "    <tr>\n",
       "      <th>...</th>\n",
       "      <td>...</td>\n",
       "      <td>...</td>\n",
       "    </tr>\n",
       "    <tr>\n",
       "      <th>27995</th>\n",
       "      <td>27996</td>\n",
       "      <td>9</td>\n",
       "    </tr>\n",
       "    <tr>\n",
       "      <th>27996</th>\n",
       "      <td>27997</td>\n",
       "      <td>7</td>\n",
       "    </tr>\n",
       "    <tr>\n",
       "      <th>27997</th>\n",
       "      <td>27998</td>\n",
       "      <td>3</td>\n",
       "    </tr>\n",
       "    <tr>\n",
       "      <th>27998</th>\n",
       "      <td>27999</td>\n",
       "      <td>9</td>\n",
       "    </tr>\n",
       "    <tr>\n",
       "      <th>27999</th>\n",
       "      <td>28000</td>\n",
       "      <td>2</td>\n",
       "    </tr>\n",
       "  </tbody>\n",
       "</table>\n",
       "<p>28000 rows × 2 columns</p>\n",
       "</div>"
      ],
      "text/plain": [
       "       ImageId  Label\n",
       "0            1      2\n",
       "1            2      0\n",
       "2            3      9\n",
       "3            4      9\n",
       "4            5      3\n",
       "...        ...    ...\n",
       "27995    27996      9\n",
       "27996    27997      7\n",
       "27997    27998      3\n",
       "27998    27999      9\n",
       "27999    28000      2\n",
       "\n",
       "[28000 rows x 2 columns]"
      ]
     },
     "execution_count": 20,
     "metadata": {},
     "output_type": "execute_result"
    }
   ],
   "source": [
    "submission"
   ]
  },
  {
   "cell_type": "code",
   "execution_count": 21,
   "id": "350e33ff",
   "metadata": {
    "execution": {
     "iopub.execute_input": "2021-11-18T19:29:44.386625Z",
     "iopub.status.busy": "2021-11-18T19:29:44.385636Z",
     "iopub.status.idle": "2021-11-18T19:29:44.445388Z",
     "shell.execute_reply": "2021-11-18T19:29:44.445949Z",
     "shell.execute_reply.started": "2021-11-18T19:24:08.021247Z"
    },
    "papermill": {
     "duration": 1.168711,
     "end_time": "2021-11-18T19:29:44.446128",
     "exception": false,
     "start_time": "2021-11-18T19:29:43.277417",
     "status": "completed"
    },
    "tags": []
   },
   "outputs": [],
   "source": [
    "submission.to_csv('submissions0.csv', index=False)"
   ]
  }
 ],
 "metadata": {
  "kernelspec": {
   "display_name": "Python 3",
   "language": "python",
   "name": "python3"
  },
  "language_info": {
   "codemirror_mode": {
    "name": "ipython",
    "version": 3
   },
   "file_extension": ".py",
   "mimetype": "text/x-python",
   "name": "python",
   "nbconvert_exporter": "python",
   "pygments_lexer": "ipython3",
   "version": "3.7.10"
  },
  "papermill": {
   "default_parameters": {},
   "duration": 319.311848,
   "end_time": "2021-11-18T19:29:48.714360",
   "environment_variables": {},
   "exception": null,
   "input_path": "__notebook__.ipynb",
   "output_path": "__notebook__.ipynb",
   "parameters": {},
   "start_time": "2021-11-18T19:24:29.402512",
   "version": "2.3.3"
  }
 },
 "nbformat": 4,
 "nbformat_minor": 5
}
